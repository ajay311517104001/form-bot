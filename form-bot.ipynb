{
 "cells": [
  {
   "cell_type": "code",
   "execution_count": 4,
   "metadata": {},
   "outputs": [
    {
     "name": "stdout",
     "output_type": "stream",
     "text": [
      "Collecting package metadata (current_repodata.json): ...working... done\n",
      "Solving environment: ...working... done\n",
      "\n",
      "# All requested packages already installed.\n",
      "\n",
      "\n",
      "Note: you may need to restart the kernel to use updated packages.\n"
     ]
    }
   ],
   "source": [
    "conda install selenium"
   ]
  },
  {
   "cell_type": "code",
   "execution_count": 58,
   "metadata": {},
   "outputs": [
    {
     "name": "stdout",
     "output_type": "stream",
     "text": [
      "['Obm!Wj7G!060!TMehHbvqlNa', '\"PATRICE C. KRENIK', ' JR\"', '+001 046 428558', '$0200.10', 'PO BOX 567']\n"
     ]
    }
   ],
   "source": [
    "from selenium import webdriver\n",
    "from selenium.webdriver.support.ui import Select\n",
    "import time\n",
    "import csv\n",
    "\n",
    "web= webdriver.Chrome(\"C:/Users/AJAY/Downloads/chromedriver_win32/chromedriver.exe\")\n",
    "web.get('http://form-cube.com/Default.aspx')\n",
    "\n",
    "time.sleep(3)\n",
    "\n",
    "# -------------------------------------login----------------------------------------------------\n",
    "\n",
    "username='C1801202111293'\n",
    "user=web.find_element_by_xpath('//*[@id=\"txt_Uname\"]')\n",
    "user.send_keys(username)\n",
    "password='KiNRB'\n",
    "passwd=web.find_element_by_xpath('//*[@id=\"txt_pass\"]')\n",
    "passwd.send_keys(password)\n",
    "\n",
    "login=web.find_element_by_xpath('//*[@id=\"btnsubmit\"]')\n",
    "login.click()\n",
    "\n",
    "time.sleep(10)\n",
    "\n",
    "\n",
    "\n",
    "\n",
    "# --------------------------------------------- dropdown------------------------------------------\n",
    "\n",
    "\n",
    "          \n",
    "\n",
    "            \n",
    "            \n",
    "ini=104\n",
    "lim=106\n",
    "lines=[line.strip().split(',') for line in open('./dataset.csv')] \n",
    "k=0\n",
    "while(ini<=lim):          \n",
    "    ele=web.find_element_by_xpath('//*[@id=\"ctl00_ContentPlaceHolder1_drp_pagejump\"]')\n",
    "    drp=Select(ele)\n",
    "    drp.select_by_visible_text(str(ini))\n",
    "\n",
    "    time.sleep(6)\n",
    "    #csv part\n",
    "\n",
    "\n",
    "\n",
    "    print(lines[k])\n",
    "    uniq=lines[k][0]\n",
    "    uniqno=web.find_element_by_xpath('//*[@id=\"ctl00_ContentPlaceHolder1_txt_tbc\"]')\n",
    "    uniqno.send_keys(uniq)\n",
    "\n",
    "    fnam=lines[k][1]\n",
    "    fname=web.find_element_by_xpath('//*[@id=\"ctl00_ContentPlaceHolder1_txt_name\"]')\n",
    "    fname.send_keys(fnam)\n",
    "\n",
    "    cdet=lines[k][2]\n",
    "    cdetails=web.find_element_by_xpath('//*[@id=\"ctl00_ContentPlaceHolder1_txt_mobno\"]')\n",
    "    cdetails.send_keys(cdet)\n",
    "\n",
    "\n",
    "    msal=lines[k][3]\n",
    "    monthsal=web.find_element_by_xpath('//*[@id=\"ctl00_ContentPlaceHolder1_txt_licenceno\"]')\n",
    "    monthsal.send_keys(msal)\n",
    "\n",
    "    padd=lines[k][4]\n",
    "    add=web.find_element_by_xpath('//*[@id=\"ctl00_ContentPlaceHolder1_txt_Hadd\"]')\n",
    "    add.send_keys(padd)\n",
    "                \n",
    "\n",
    "\n",
    "#     sub=web.find_element_by_xpath('//*[@id=\"ctl00_ContentPlaceHolder1_btnsubmit\"]')\n",
    "#     sub.click()\n",
    "    k+=1\n",
    "                \n",
    "    ini+=1          \n",
    "\n",
    "\n"
   ]
  },
  {
   "cell_type": "code",
   "execution_count": null,
   "metadata": {},
   "outputs": [],
   "source": []
  }
 ],
 "metadata": {
  "kernelspec": {
   "display_name": "Python 3",
   "language": "python",
   "name": "python3"
  },
  "language_info": {
   "codemirror_mode": {
    "name": "ipython",
    "version": 3
   },
   "file_extension": ".py",
   "mimetype": "text/x-python",
   "name": "python",
   "nbconvert_exporter": "python",
   "pygments_lexer": "ipython3",
   "version": "3.8.3"
  }
 },
 "nbformat": 4,
 "nbformat_minor": 4
}
